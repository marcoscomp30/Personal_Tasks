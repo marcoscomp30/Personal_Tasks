{
 "cells": [
  {
   "cell_type": "markdown",
   "metadata": {},
   "source": [
    "### Dicas diversas Internet"
   ]
  },
  {
   "cell_type": "markdown",
   "metadata": {},
   "source": [
    "#### F-string"
   ]
  },
  {
   "cell_type": "code",
   "execution_count": 1,
   "metadata": {},
   "outputs": [],
   "source": [
    "import pandas as pd\n",
    "import numpy as np"
   ]
  },
  {
   "cell_type": "code",
   "execution_count": 2,
   "metadata": {},
   "outputs": [],
   "source": [
    "# Modo 1 de saída de informações:\n",
    "#Nome = input()\n",
    "#Idade = input()\n",
    "#Cidade = input()\n",
    "\n",
    "#print('Olá, meu nome é %s, tenho %s anos e sou de %s'% (Nome, Idade, Cidade))\n",
    "\n",
    "# os % substituem as strings q são colocadas"
   ]
  },
  {
   "cell_type": "code",
   "execution_count": 3,
   "metadata": {},
   "outputs": [],
   "source": [
    "# Modo 2 de saída de informações - usando o Format:\n",
    "#Nome = input()\n",
    "#Idade = input()\n",
    "#Cidade = input()\n",
    "\n",
    "#print('Olá, meu nome é {}, tenho {} anos e sou de {}'.format(Nome, Idade, Cidade))"
   ]
  },
  {
   "cell_type": "code",
   "execution_count": 4,
   "metadata": {},
   "outputs": [],
   "source": [
    "# Modo 3 de saída de informações - usando o Fstring:\n",
    "#Nome = input()\n",
    "#Idade = input()\n",
    "#Cidade = input()\n",
    "\n",
    "#print(f'Olá, meu nome é {Nome}, tenho {Idade} anos e sou de {Cidade}')"
   ]
  },
  {
   "cell_type": "markdown",
   "metadata": {},
   "source": [
    "### Condicional de linha"
   ]
  },
  {
   "cell_type": "code",
   "execution_count": 5,
   "metadata": {},
   "outputs": [
    {
     "name": "stdout",
     "output_type": "stream",
     "text": [
      "0\n"
     ]
    }
   ],
   "source": [
    "# Colocar o comando print ao lado da condição:\n",
    "\n",
    "x= int(input())\n",
    "if x >= 10:print(x) #<---\n",
    "for i in range(x):print(x) #<---\n",
    "    "
   ]
  },
  {
   "cell_type": "markdown",
   "metadata": {},
   "source": [
    "### Operadores encadeados"
   ]
  },
  {
   "cell_type": "code",
   "execution_count": 6,
   "metadata": {
    "scrolled": true
   },
   "outputs": [
    {
     "name": "stdout",
     "output_type": "stream",
     "text": [
      "Digite o Sexo: 0\n",
      "Digite sua idade: 0\n",
      "Digite sua cidade: 0\n",
      "Digite vlr do Carro: 0\n"
     ]
    }
   ],
   "source": [
    "# Para a condição colocada, todas as perguntas tem q estar dentro dos parâmetros especificados:\n",
    "\n",
    "Sexo = input('Digite o Sexo: ')\n",
    "Idade = int(input('Digite sua idade: '))\n",
    "Cidade = input('Digite sua cidade: ')\n",
    "Valor_Carro = int(input('Digite vlr do Carro: '))\n",
    "\n",
    "if Idade <=30:\n",
    "    if Sexo == 'M':\n",
    "        if Cidade in ('Rj', 'Sp', 'Am'):\n",
    "            if Valor_Carro >= 50000: print('Operação Autorizada')\n",
    "else: \n",
    "            print('Operação Não Autorizada')"
   ]
  },
  {
   "cell_type": "markdown",
   "metadata": {
    "collapsed": true
   },
   "source": [
    "# Usando o AND. Não precisa usar o if em todas as condições, só na 1ª pergunta:\n",
    "\n",
    "Sexo = input('Digite o Sexo: ')\n",
    "Idade = int(input('Digite sua idade: '))\n",
    "Cidade = input('Digite sua cidade: ')\n",
    "Valor_Carro = int(input('Digite vlr do Carro: '))\n",
    "\n",
    "if Idade <=30 and Sexo == 'M' and Cidade in ('Rj', 'Sp', 'Am') and Valor_Carro >= 50000: print('Operação Autorizada')\n",
    "\n",
    "else: \n",
    "            print('Operação Não Autorizada')"
   ]
  },
  {
   "cell_type": "markdown",
   "metadata": {},
   "source": [
    "### List Comprehension"
   ]
  },
  {
   "cell_type": "code",
   "execution_count": 7,
   "metadata": {},
   "outputs": [
    {
     "name": "stdout",
     "output_type": "stream",
     "text": [
      "[0, 1, 2, 3, 4, 5, 6, 7, 8, 9, 10]\n"
     ]
    }
   ],
   "source": [
    "# Criando lista de maneira usual:\n",
    "\n",
    "l = []\n",
    "\n",
    "for i in range(11):\n",
    "    l.append(i)\n",
    "print(l)"
   ]
  },
  {
   "cell_type": "code",
   "execution_count": 8,
   "metadata": {},
   "outputs": [
    {
     "name": "stdout",
     "output_type": "stream",
     "text": [
      "[0, 2, 4, 6, 8, 10, 12, 14]\n"
     ]
    }
   ],
   "source": [
    "# Usando o List Comprehension: Abre [], mas coloca-se o range dentro dele.\n",
    "\n",
    "lista = [x for x in range(15) if x % 2==0]\n",
    "\n",
    "print(lista)"
   ]
  },
  {
   "cell_type": "markdown",
   "metadata": {},
   "source": [
    "### Enumerate"
   ]
  },
  {
   "cell_type": "code",
   "execution_count": 9,
   "metadata": {},
   "outputs": [
    {
     "name": "stdout",
     "output_type": "stream",
     "text": [
      "index0 - valor0\n",
      "index1 - valor1\n",
      "index2 - valor2\n",
      "index3 - valor3\n",
      "index4 - valor4\n",
      "index5 - valor5\n",
      "index6 - valor6\n",
      "index7 - valor7\n",
      "index8 - valor8\n",
      "index9 - valor9\n",
      "index10 - valor10\n",
      "index11 - valor11\n",
      "index12 - valor12\n",
      "index13 - valor13\n",
      "index14 - valor14\n"
     ]
    }
   ],
   "source": [
    "# Intera sobre uma lista e retorna os seus índices:\n",
    "\n",
    "for i, v in enumerate(range(15)):\n",
    "    print(f'index{i} - valor{v}')"
   ]
  },
  {
   "cell_type": "code",
   "execution_count": null,
   "metadata": {},
   "outputs": [],
   "source": []
  },
  {
   "cell_type": "markdown",
   "metadata": {},
   "source": [
    "### Desempacotamento de variáveis"
   ]
  },
  {
   "cell_type": "code",
   "execution_count": 10,
   "metadata": {},
   "outputs": [
    {
     "name": "stdout",
     "output_type": "stream",
     "text": [
      "10 20\n"
     ]
    }
   ],
   "source": [
    "# Permite visualizar os valores de uma variável criada.\n",
    "x, y = 10, 20\n",
    "print(x, y)"
   ]
  },
  {
   "cell_type": "code",
   "execution_count": 11,
   "metadata": {},
   "outputs": [
    {
     "name": "stdout",
     "output_type": "stream",
     "text": [
      "09 03 2021\n"
     ]
    }
   ],
   "source": [
    "data_string = '09/03/2021'\n",
    "d,m,y = data_string.split('/')\n",
    "print(d,m,y)"
   ]
  },
  {
   "cell_type": "code",
   "execution_count": 12,
   "metadata": {},
   "outputs": [
    {
     "name": "stdout",
     "output_type": "stream",
     "text": [
      "15 25 [35, 45, 55, 65, 75, 85, 95, 105]\n"
     ]
    }
   ],
   "source": [
    "num = [15,25,35,45,55,65,75,85,95,105]\n",
    "um, dois, *outros = num\n",
    "print(um, dois, outros)"
   ]
  },
  {
   "cell_type": "markdown",
   "metadata": {},
   "source": [
    "### Mudança de variável"
   ]
  },
  {
   "cell_type": "code",
   "execution_count": 13,
   "metadata": {},
   "outputs": [
    {
     "name": "stdout",
     "output_type": "stream",
     "text": [
      "42 22\n"
     ]
    }
   ],
   "source": [
    "x = 22\n",
    "z = 42\n",
    "\n",
    "x, z = z, x\n",
    "print(x,z) # <-- o X que era 22, virou 42 e o z que era 42, virou 22."
   ]
  },
  {
   "cell_type": "markdown",
   "metadata": {},
   "source": [
    "### Testando a velocidade da conexão de internet"
   ]
  },
  {
   "cell_type": "code",
   "execution_count": 14,
   "metadata": {},
   "outputs": [
    {
     "ename": "SyntaxError",
     "evalue": "invalid syntax (<ipython-input-14-ef85b465097d>, line 2)",
     "output_type": "error",
     "traceback": [
      "\u001b[1;36m  File \u001b[1;32m\"<ipython-input-14-ef85b465097d>\"\u001b[1;36m, line \u001b[1;32m2\u001b[0m\n\u001b[1;33m    pip install speedtest-cli\u001b[0m\n\u001b[1;37m        ^\u001b[0m\n\u001b[1;31mSyntaxError\u001b[0m\u001b[1;31m:\u001b[0m invalid syntax\n"
     ]
    }
   ],
   "source": [
    "#Instalando biblioteca específica\n",
    "pip install speedtest-cli"
   ]
  },
  {
   "cell_type": "code",
   "execution_count": null,
   "metadata": {},
   "outputs": [],
   "source": [
    "import speedtest\n",
    "test = speedtest.Speedtest()\n",
    "down = test.download()\n",
    "upload = test.upload()\n",
    "print(f\"Download speed: {down}\")\n",
    "print(f\"Download speed: {upload}\")"
   ]
  },
  {
   "cell_type": "markdown",
   "metadata": {},
   "source": [
    "### Gerando um QR Code"
   ]
  },
  {
   "cell_type": "code",
   "execution_count": null,
   "metadata": {},
   "outputs": [],
   "source": [
    "#Instalando biblioteca específica\n",
    "pip install pyqrcode"
   ]
  },
  {
   "cell_type": "code",
   "execution_count": null,
   "metadata": {},
   "outputs": [],
   "source": [
    "#Instalando biblioteca específica\n",
    "pip install pypng"
   ]
  },
  {
   "cell_type": "code",
   "execution_count": null,
   "metadata": {},
   "outputs": [],
   "source": [
    "import pyqrcode\n",
    "import png\n",
    "from pyqrcode import QRCode"
   ]
  },
  {
   "cell_type": "code",
   "execution_count": null,
   "metadata": {},
   "outputs": [],
   "source": [
    "QRstring = \"https://www.youtube.com/\" #paste any url here\n",
    "url = pyqrcode.create(QRstring)\n",
    "url.png('qr.png',scale = 8) # save in folder where notebook was saved"
   ]
  },
  {
   "cell_type": "code",
   "execution_count": null,
   "metadata": {},
   "outputs": [],
   "source": [
    "# Montando um Array com index:\n",
    "s = pd.Series(np.array(['001', '002','003','004','005','006']), index=[1,2,3,4,5,6])\n",
    "s"
   ]
  },
  {
   "cell_type": "code",
   "execution_count": null,
   "metadata": {},
   "outputs": [],
   "source": [
    "#Importando arquivo CSV\n",
    "df = pd.read_csv(\"Atualizações_B3.csv\",delimiter=',')\n",
    "df.head(3)"
   ]
  },
  {
   "cell_type": "code",
   "execution_count": null,
   "metadata": {},
   "outputs": [],
   "source": [
    "#df.drop('Unnamed: 17', axis=1, inplace=True)\n",
    "df.drop('Unnamed: 18', axis=1, inplace=True)"
   ]
  },
  {
   "cell_type": "code",
   "execution_count": null,
   "metadata": {},
   "outputs": [],
   "source": [
    "df.columns"
   ]
  },
  {
   "cell_type": "code",
   "execution_count": null,
   "metadata": {},
   "outputs": [],
   "source": [
    "df_B3 = df[df['TICKER']=='B3SA3']\n",
    "df_B3"
   ]
  },
  {
   "cell_type": "code",
   "execution_count": null,
   "metadata": {},
   "outputs": [],
   "source": [
    "df_B3 = df[(df['TICKER']=='B3SA3') & (df['PREÇO ATUAL'])]\n",
    "df_B3"
   ]
  },
  {
   "cell_type": "code",
   "execution_count": null,
   "metadata": {},
   "outputs": [],
   "source": [
    "# Fazendo um filtro das infos da empresa que queremos olhar\n",
    "filtro = df['TICKER']=='B3SA3'\n",
    "df[filtro]"
   ]
  },
  {
   "cell_type": "code",
   "execution_count": null,
   "metadata": {},
   "outputs": [],
   "source": [
    "# Através da negação (~), verificamos no DF todas as empresas exceto a do filtro\n",
    "df[~filtro]"
   ]
  },
  {
   "cell_type": "code",
   "execution_count": null,
   "metadata": {},
   "outputs": [],
   "source": [
    "# Usando o LOC para achar uma info. 1º informar a linha e depois a coluna, qd se coloca :, traz todas as linhas.\n",
    "df_B3.loc[:,'PREÇO LOW_52']"
   ]
  },
  {
   "cell_type": "code",
   "execution_count": null,
   "metadata": {},
   "outputs": [],
   "source": [
    "# Usando o Loc, informando uma linha específica\n",
    "df_B3.loc[4,'PREÇO LOW_52']"
   ]
  },
  {
   "cell_type": "code",
   "execution_count": null,
   "metadata": {},
   "outputs": [],
   "source": [
    "# Usando o lOC para trazer a info de 2 colunas\n",
    "df_B3.loc[4,['PREÇO LOW_52','Fechamento Ibovespa']]"
   ]
  },
  {
   "cell_type": "code",
   "execution_count": null,
   "metadata": {},
   "outputs": [],
   "source": [
    "# Usando o Iloc. Com 0 dentro do [], traz todas as infos inseridas nas colunas.\n",
    "df_B3.iloc[0]"
   ]
  },
  {
   "cell_type": "code",
   "execution_count": null,
   "metadata": {},
   "outputs": [],
   "source": [
    "# Iloc, informando linha (:) e colunas.\n",
    "df_B3.iloc[:,2:5]"
   ]
  },
  {
   "cell_type": "markdown",
   "metadata": {},
   "source": [
    "### Criando um DF"
   ]
  },
  {
   "cell_type": "code",
   "execution_count": null,
   "metadata": {},
   "outputs": [],
   "source": [
    "empresa = {'email': ['marcos@email.com', 'jurandir@email.com', 'farofa@email.com', 'mirlane@email.com'],\n",
    "          'depto': ['Mkt', 'Ctb','Xerox','Fin'],\n",
    "          'nome': ['Marcos', 'Jurandir', 'Farofa', 'Mirlane']}\n",
    "df_empresa = pd.DataFrame(empresa)"
   ]
  },
  {
   "cell_type": "code",
   "execution_count": null,
   "metadata": {},
   "outputs": [],
   "source": [
    "df_empresa"
   ]
  },
  {
   "cell_type": "code",
   "execution_count": null,
   "metadata": {},
   "outputs": [],
   "source": [
    "# transformando coluna de email em index\n",
    "df_empresa.set_index('email', inplace=True)"
   ]
  },
  {
   "cell_type": "code",
   "execution_count": null,
   "metadata": {},
   "outputs": [],
   "source": [
    "df_empresa"
   ]
  },
  {
   "cell_type": "code",
   "execution_count": null,
   "metadata": {},
   "outputs": [],
   "source": [
    "# Voltando ao que era\n",
    "df_empresa.reset_index(inplace = True)"
   ]
  },
  {
   "cell_type": "code",
   "execution_count": null,
   "metadata": {},
   "outputs": [],
   "source": [
    "df_empresa"
   ]
  },
  {
   "cell_type": "markdown",
   "metadata": {},
   "source": [
    "### Criando um DF - Excluindo os erros."
   ]
  },
  {
   "cell_type": "code",
   "execution_count": null,
   "metadata": {},
   "outputs": [],
   "source": [
    "import numpy as np\n",
    "\n",
    "df = pd.DataFrame(np.random.randint(low=1, high=100, size=(7,3)), index=[0,1,2,3,4,5,6], columns=['one', 'two', 'three'])\n",
    "df.iloc[1:2,0] = np.nan\n",
    "df.iloc[5:6,2] = np.nan\n",
    "\n",
    "df"
   ]
  },
  {
   "cell_type": "code",
   "execution_count": null,
   "metadata": {},
   "outputs": [],
   "source": [
    "# 1. Verificar quantas \"células\" do DF estão com erro ou vazias;\n",
    "df.isnull().sum()"
   ]
  },
  {
   "cell_type": "code",
   "execution_count": null,
   "metadata": {},
   "outputs": [],
   "source": [
    "df.notnull().sum()"
   ]
  },
  {
   "cell_type": "code",
   "execution_count": null,
   "metadata": {},
   "outputs": [],
   "source": [
    "# Subsituindo com o fillna\n",
    "df.fillna(10) # simplesmente colocando valor 10"
   ]
  },
  {
   "cell_type": "code",
   "execution_count": null,
   "metadata": {},
   "outputs": [],
   "source": [
    "#Usando o Fillna em uma coluna em específico.\n",
    "df['one'].fillna(10)"
   ]
  },
  {
   "cell_type": "code",
   "execution_count": null,
   "metadata": {},
   "outputs": [],
   "source": [
    "# Substituindo os Nan por uma função. Defino x, aplico a função de média no eixo 0 q é coluna.\n",
    "df.apply(lambda x: x.fillna(x.mean()),axis=0).round()"
   ]
  },
  {
   "cell_type": "code",
   "execution_count": null,
   "metadata": {},
   "outputs": [],
   "source": [
    "# Simplesmente eliminando os Nan do Df\n",
    "df.dropna()"
   ]
  },
  {
   "cell_type": "markdown",
   "metadata": {},
   "source": [
    "### Concatenando 2 DF´s:"
   ]
  },
  {
   "cell_type": "code",
   "execution_count": null,
   "metadata": {},
   "outputs": [],
   "source": [
    "times = {'Time': ['Poderosos', 'Poderosos','Rápidos', 'Destruidores',\n",
    "                 'Destruidores', 'Destruidores', 'Destruidores', 'Poderosos', 'Maiorais', 'Maiorais', 'Poderosos'],\n",
    "        'Rank': [1,2,2,3,4,1,1,2,4,1,2],\n",
    "        'Ano': [2014,2015,2014,2015,2014,2015,2016,2017,2016,2014,2017],\n",
    "        'Pontos': [100,91,85,86,83,79,83,77,78,94,74]}\n",
    "\n",
    "times_df = pd.DataFrame(times)\n",
    "\n",
    "times2 = {'Time': ['Vikings', 'Vikings','Foguetes', 'Cangaceiros',\n",
    "                 'Cangaceiros', 'Cangaceiros', 'Cangaceiros', 'Vikings', 'Pedregulhos', 'Pedregulhos', 'Vikings'],\n",
    "        'Rank': [1,2,2,3,4,1,1,2,4,1,2],\n",
    "        'Ano': [2013,2015,2013,2015,2014,2011,2010,2017,2016,2014,2010],\n",
    "        'Pontos': [99,95,84,86,83,78,81,77,78,94,100]}\n",
    "\n",
    "times2_df = pd.DataFrame(times)"
   ]
  },
  {
   "cell_type": "code",
   "execution_count": null,
   "metadata": {},
   "outputs": [],
   "source": [
    "pd.concat([times_df, times2_df])"
   ]
  },
  {
   "cell_type": "markdown",
   "metadata": {},
   "source": [
    "**Tratando dados em Excel**"
   ]
  },
  {
   "cell_type": "code",
   "execution_count": null,
   "metadata": {},
   "outputs": [],
   "source": [
    "df5 = pd.read_excel(\"cursos_prouni.xls\")"
   ]
  },
  {
   "cell_type": "code",
   "execution_count": null,
   "metadata": {},
   "outputs": [],
   "source": [
    "df5"
   ]
  },
  {
   "cell_type": "code",
   "execution_count": null,
   "metadata": {},
   "outputs": [],
   "source": [
    "df5.describe().round(2)"
   ]
  },
  {
   "cell_type": "code",
   "execution_count": null,
   "metadata": {},
   "outputs": [],
   "source": [
    "df5.sort_values(by=['mensalidade', 'bolsa_integral_ampla'],ascending=True)"
   ]
  },
  {
   "cell_type": "code",
   "execution_count": null,
   "metadata": {},
   "outputs": [],
   "source": [
    "df5['curso_busca'].value_counts()"
   ]
  },
  {
   "cell_type": "code",
   "execution_count": null,
   "metadata": {},
   "outputs": [],
   "source": [
    "group_estado = df5.groupby(['uf_busca'])"
   ]
  },
  {
   "cell_type": "code",
   "execution_count": null,
   "metadata": {},
   "outputs": [],
   "source": [
    "group_estado['curso_busca'].value_counts().to_frame()"
   ]
  },
  {
   "cell_type": "code",
   "execution_count": null,
   "metadata": {},
   "outputs": [],
   "source": [
    "df5.groupby(['uf_busca', 'curso_busca','grau','turno']).agg(['mean','median']).round(2)"
   ]
  },
  {
   "cell_type": "code",
   "execution_count": null,
   "metadata": {},
   "outputs": [],
   "source": [
    "df_estado_curso = df5.groupby(['uf_busca','curso_busca'])['bolsa_integral_cotas'].count()\n",
    "df_estado_curso"
   ]
  },
  {
   "cell_type": "code",
   "execution_count": null,
   "metadata": {},
   "outputs": [],
   "source": [
    "df_house = pd.read_csv('houses_to_rent_V2.csv')\n",
    "df_house"
   ]
  },
  {
   "cell_type": "code",
   "execution_count": null,
   "metadata": {},
   "outputs": [],
   "source": [
    "df_house.nlargest(5,'total (R$)').round(2)"
   ]
  },
  {
   "cell_type": "code",
   "execution_count": null,
   "metadata": {},
   "outputs": [],
   "source": [
    "df_house_l = df_house.loc[:,['city', 'total (R$)']]\n",
    "df_house_l"
   ]
  },
  {
   "cell_type": "code",
   "execution_count": null,
   "metadata": {},
   "outputs": [],
   "source": [
    "df_house_plot = df_house_l.groupby('city').agg('mean')\n",
    "df_house_plot"
   ]
  },
  {
   "cell_type": "code",
   "execution_count": null,
   "metadata": {},
   "outputs": [],
   "source": [
    "df_house_plot.plot(kind='bar', figsize=(20,10))"
   ]
  },
  {
   "cell_type": "code",
   "execution_count": null,
   "metadata": {},
   "outputs": [],
   "source": [
    "from matplotlib import pyplot as plt"
   ]
  },
  {
   "cell_type": "code",
   "execution_count": null,
   "metadata": {},
   "outputs": [],
   "source": [
    "df_house_plot.plot(kind='bar', figsize=(20,10))\n",
    "\n",
    "plt.title('Aluguéis')\n",
    "plt.xlabel('UF')\n",
    "plt.ylabel('Aluguel Total')\n",
    "plt.show()"
   ]
  },
  {
   "cell_type": "code",
   "execution_count": null,
   "metadata": {},
   "outputs": [],
   "source": [
    "import seaborn as sns"
   ]
  },
  {
   "cell_type": "code",
   "execution_count": null,
   "metadata": {},
   "outputs": [],
   "source": [
    "sns.boxplot(y='total (R$)', x='city',\n",
    "               data=df_house,\n",
    "               width=0.5,\n",
    "               palette=\"colorblind\")"
   ]
  },
  {
   "cell_type": "code",
   "execution_count": null,
   "metadata": {},
   "outputs": [],
   "source": [
    "df_bh = df_house_l[(df_house_l['city']=='Belo Horizonte') & (df_house_l['total (R$)'])<1000000]"
   ]
  },
  {
   "cell_type": "code",
   "execution_count": null,
   "metadata": {},
   "outputs": [],
   "source": [
    "df_bh"
   ]
  },
  {
   "cell_type": "code",
   "execution_count": 15,
   "metadata": {},
   "outputs": [],
   "source": [
    "import numpy as np"
   ]
  },
  {
   "cell_type": "code",
   "execution_count": 21,
   "metadata": {},
   "outputs": [],
   "source": [
    "# import computer vision library(cv2) in this code\n",
    "import cv2\n",
    " \n",
    "# main code\n",
    "if __name__ == \"__main__\" :\n",
    " \n",
    "    # mentioning absolute path of the image\n",
    "    img_path = \"Jurandir_perfil.jpg\"\n",
    " \n",
    "    # using imread() method of cv2\n",
    "    image = cv2.imread(img_path)\n",
    " \n",
    "    # show the image on the newly created image window\n",
    "    cv2.imshow('image window',image)"
   ]
  },
  {
   "cell_type": "code",
   "execution_count": 23,
   "metadata": {},
   "outputs": [],
   "source": [
    "img = cv2.imread(\"Jurandir_perfil.jpg\")"
   ]
  },
  {
   "cell_type": "code",
   "execution_count": 24,
   "metadata": {},
   "outputs": [],
   "source": [
    "# Edges\n",
    "gray = cv2.cvtColor(img, cv2.COLOR_BGR2GRAY)\n",
    "gray = cv2.medianBlur(gray, 5)\n",
    "edges = cv2.adaptiveThreshold(gray, 255,\n",
    "        cv2.ADAPTIVE_THRESH_MEAN_C,\n",
    "        cv2.THRESH_BINARY,9,9)"
   ]
  },
  {
   "cell_type": "code",
   "execution_count": 27,
   "metadata": {},
   "outputs": [
    {
     "ename": "KeyboardInterrupt",
     "evalue": "",
     "output_type": "error",
     "traceback": [
      "\u001b[1;31m---------------------------------------------------------------------------\u001b[0m",
      "\u001b[1;31mKeyboardInterrupt\u001b[0m                         Traceback (most recent call last)",
      "\u001b[1;32m<ipython-input-27-87614a897da1>\u001b[0m in \u001b[0;36m<module>\u001b[1;34m\u001b[0m\n\u001b[0;32m      6\u001b[0m \u001b[0mcv2\u001b[0m\u001b[1;33m.\u001b[0m\u001b[0mimshow\u001b[0m\u001b[1;33m(\u001b[0m\u001b[1;34m\"edges\"\u001b[0m\u001b[1;33m,\u001b[0m \u001b[0medges\u001b[0m\u001b[1;33m)\u001b[0m\u001b[1;33m\u001b[0m\u001b[1;33m\u001b[0m\u001b[0m\n\u001b[0;32m      7\u001b[0m \u001b[0mcv2\u001b[0m\u001b[1;33m.\u001b[0m\u001b[0mimshow\u001b[0m\u001b[1;33m(\u001b[0m\u001b[1;34m\"Cartoon\"\u001b[0m\u001b[1;33m,\u001b[0m \u001b[0mcartoon\u001b[0m\u001b[1;33m)\u001b[0m\u001b[1;33m\u001b[0m\u001b[1;33m\u001b[0m\u001b[0m\n\u001b[1;32m----> 8\u001b[1;33m \u001b[0mcv2\u001b[0m\u001b[1;33m.\u001b[0m\u001b[0mwaitKey\u001b[0m\u001b[1;33m(\u001b[0m\u001b[1;36m0\u001b[0m\u001b[1;33m)\u001b[0m\u001b[1;33m\u001b[0m\u001b[1;33m\u001b[0m\u001b[0m\n\u001b[0m\u001b[0;32m      9\u001b[0m \u001b[0mcv2\u001b[0m\u001b[1;33m.\u001b[0m\u001b[0mdestroyAllWindows\u001b[0m\u001b[1;33m(\u001b[0m\u001b[1;33m)\u001b[0m\u001b[1;33m\u001b[0m\u001b[1;33m\u001b[0m\u001b[0m\n",
      "\u001b[1;31mKeyboardInterrupt\u001b[0m: "
     ]
    }
   ],
   "source": [
    "# Cartonization\n",
    "color = cv2.bilateralFilter(img, 9, 250, 250)\n",
    "cartoon = cv2.bitwise_and(color, color, mask=edges)\n",
    "\n",
    "cv2.imshow(\"Image\", img)\n",
    "cv2.imshow(\"edges\", edges)\n",
    "cv2.imshow(\"Cartoon\", cartoon)\n",
    "cv2.waitKey(0)\n",
    "cv2.destroyAllWindows()"
   ]
  },
  {
   "cell_type": "code",
   "execution_count": null,
   "metadata": {},
   "outputs": [],
   "source": []
  }
 ],
 "metadata": {
  "kernelspec": {
   "display_name": "Python 3",
   "language": "python",
   "name": "python3"
  },
  "language_info": {
   "codemirror_mode": {
    "name": "ipython",
    "version": 3
   },
   "file_extension": ".py",
   "mimetype": "text/x-python",
   "name": "python",
   "nbconvert_exporter": "python",
   "pygments_lexer": "ipython3",
   "version": "3.8.5"
  }
 },
 "nbformat": 4,
 "nbformat_minor": 4
}
